{
 "cells": [
  {
   "cell_type": "code",
   "execution_count": 1,
   "metadata": {
    "collapsed": false
   },
   "outputs": [
    {
     "name": "stderr",
     "output_type": "stream",
     "text": [
      "Loading required package: sandwich\n",
      "Loading required package: lmtest\n",
      "Loading required package: zoo\n",
      "\n",
      "Attaching package: 'zoo'\n",
      "\n",
      "The following objects are masked from 'package:base':\n",
      "\n",
      "    as.Date, as.Date.numeric\n",
      "\n",
      "Loading required package: stargazer\n",
      "\n",
      "Please cite as: \n",
      "\n",
      " Hlavac, Marek (2015). stargazer: Well-Formatted Regression and Summary Statistics Tables.\n",
      " R package version 5.2. http://CRAN.R-project.org/package=stargazer \n",
      "\n"
     ]
    }
   ],
   "source": [
    "library(readr)\n",
    "require(sandwich)\n",
    "require(lmtest)\n",
    "require(stargazer)"
   ]
  },
  {
   "cell_type": "code",
   "execution_count": 2,
   "metadata": {
    "collapsed": false
   },
   "outputs": [
    {
     "name": "stderr",
     "output_type": "stream",
     "text": [
      "Parsed with column specification:\n",
      "cols(\n",
      "  e401k = col_integer(),\n",
      "  inc = col_double(),\n",
      "  marr = col_integer(),\n",
      "  male = col_integer(),\n",
      "  age = col_integer(),\n",
      "  fsize = col_integer(),\n",
      "  nettfa = col_double(),\n",
      "  p401k = col_integer(),\n",
      "  pira = col_integer(),\n",
      "  incsq = col_double(),\n",
      "  agesq = col_integer()\n",
      ")\n"
     ]
    }
   ],
   "source": [
    "X401ksubs <- read_csv(\"C:/Users/chris/Desktop/College/Econometrics/Project/401ksubs.csv\")"
   ]
  },
  {
   "cell_type": "markdown",
   "metadata": {},
   "source": [
    "Read in data set as X401ksubs"
   ]
  },
  {
   "cell_type": "markdown",
   "metadata": {},
   "source": [
    "Part 1"
   ]
  },
  {
   "cell_type": "markdown",
   "metadata": {},
   "source": [
    "Question 1"
   ]
  },
  {
   "cell_type": "code",
   "execution_count": 3,
   "metadata": {
    "collapsed": false
   },
   "outputs": [],
   "source": [
    "datapart1 = X401ksubs[X401ksubs $fsize ==1,]"
   ]
  },
  {
   "cell_type": "code",
   "execution_count": 4,
   "metadata": {
    "collapsed": false
   },
   "outputs": [
    {
     "data": {
      "text/html": [
       "2017"
      ],
      "text/latex": [
       "2017"
      ],
      "text/markdown": [
       "2017"
      ],
      "text/plain": [
       "[1] 2017"
      ]
     },
     "metadata": {},
     "output_type": "display_data"
    }
   ],
   "source": [
    "nrow(datapart1)"
   ]
  },
  {
   "cell_type": "markdown",
   "metadata": {},
   "source": [
    "There are 2017 single person households in dataset"
   ]
  },
  {
   "cell_type": "markdown",
   "metadata": {},
   "source": [
    "Question 2"
   ]
  },
  {
   "cell_type": "markdown",
   "metadata": {},
   "source": [
    "Create the model"
   ]
  },
  {
   "cell_type": "code",
   "execution_count": 5,
   "metadata": {
    "collapsed": true
   },
   "outputs": [],
   "source": [
    "lm.fit = lm(nettfa ~ inc + age, data = datapart1)"
   ]
  },
  {
   "cell_type": "code",
   "execution_count": 6,
   "metadata": {
    "collapsed": false
   },
   "outputs": [
    {
     "name": "stdout",
     "output_type": "stream",
     "text": [
      "\n",
      "===============================================\n",
      "                        Dependent variable:    \n",
      "                    ---------------------------\n",
      "                              nettfa           \n",
      "-----------------------------------------------\n",
      "inc                          0.799***          \n",
      "                              (0.060)          \n",
      "                                               \n",
      "age                          0.843***          \n",
      "                              (0.092)          \n",
      "                                               \n",
      "Constant                    -43.040***         \n",
      "                              (4.080)          \n",
      "                                               \n",
      "-----------------------------------------------\n",
      "Observations                   2,017           \n",
      "R2                             0.119           \n",
      "Adjusted R2                    0.118           \n",
      "Residual Std. Error     44.683 (df = 2014)     \n",
      "F Statistic          136.465*** (df = 2; 2014) \n",
      "===============================================\n",
      "Note:               *p<0.1; **p<0.05; ***p<0.01\n"
     ]
    }
   ],
   "source": [
    "stargazer(lm.fit, type = \"text\")"
   ]
  },
  {
   "cell_type": "markdown",
   "metadata": {},
   "source": [
    "Holding everything else fixed a one unit increase in income will increase net financial assests by 799 dollars. Holding everthing else fixed a a one unit increase in age will increase net financial assets by 843 dollars. No this is not contrary to my excepectation, in general someone who has more income will have more net financial assests. As a person gets older they generally have more income and therfore have more net financial assets."
   ]
  },
  {
   "cell_type": "markdown",
   "metadata": {},
   "source": [
    "Question 3"
   ]
  },
  {
   "cell_type": "markdown",
   "metadata": {},
   "source": [
    "At the intercept, age is zero and income is zero. The intercept means when someone is born they are 43 thousand dollars in debt."
   ]
  },
  {
   "cell_type": "markdown",
   "metadata": {},
   "source": [
    "Question 4"
   ]
  },
  {
   "cell_type": "markdown",
   "metadata": {},
   "source": [
    "To get t-statistic under null hypothesis. We do point estimate minus the null all over the standard error of age."
   ]
  },
  {
   "cell_type": "code",
   "execution_count": 7,
   "metadata": {
    "collapsed": true
   },
   "outputs": [],
   "source": [
    "tstat = (0.843 - 1) / 0.092"
   ]
  },
  {
   "cell_type": "code",
   "execution_count": 8,
   "metadata": {
    "collapsed": false
   },
   "outputs": [
    {
     "data": {
      "text/html": [
       "-1.70652173913044"
      ],
      "text/latex": [
       "-1.70652173913044"
      ],
      "text/markdown": [
       "-1.70652173913044"
      ],
      "text/plain": [
       "[1] -1.706522"
      ]
     },
     "metadata": {},
     "output_type": "display_data"
    }
   ],
   "source": [
    "tstat"
   ]
  },
  {
   "cell_type": "markdown",
   "metadata": {},
   "source": [
    "Since we have 2017 data points we can use Standard Normal Distribution to calculate p-value."
   ]
  },
  {
   "cell_type": "code",
   "execution_count": 9,
   "metadata": {
    "collapsed": false
   },
   "outputs": [
    {
     "data": {
      "text/html": [
       "0.0439554911588609"
      ],
      "text/latex": [
       "0.0439554911588609"
      ],
      "text/markdown": [
       "0.0439554911588609"
      ],
      "text/plain": [
       "[1] 0.04395549"
      ]
     },
     "metadata": {},
     "output_type": "display_data"
    }
   ],
   "source": [
    "pnorm(-1.70652173913044)"
   ]
  },
  {
   "cell_type": "markdown",
   "metadata": {},
   "source": [
    "At the 1% level we do not reject the null, since .04 > .01"
   ]
  },
  {
   "cell_type": "markdown",
   "metadata": {},
   "source": [
    "Question 5"
   ]
  },
  {
   "cell_type": "code",
   "execution_count": 10,
   "metadata": {
    "collapsed": false
   },
   "outputs": [
    {
     "data": {
      "text/html": [
       "25"
      ],
      "text/latex": [
       "25"
      ],
      "text/markdown": [
       "25"
      ],
      "text/plain": [
       "[1] 25"
      ]
     },
     "metadata": {},
     "output_type": "display_data"
    }
   ],
   "source": [
    "min(datapart1$age)"
   ]
  },
  {
   "cell_type": "code",
   "execution_count": 11,
   "metadata": {
    "collapsed": false
   },
   "outputs": [
    {
     "data": {
      "text/html": [
       "99"
      ],
      "text/latex": [
       "99"
      ],
      "text/markdown": [
       "99"
      ],
      "text/plain": [
       "[1] 99"
      ]
     },
     "metadata": {},
     "output_type": "display_data"
    }
   ],
   "source": [
    "sum(datapart1$age == 25)"
   ]
  },
  {
   "cell_type": "markdown",
   "metadata": {},
   "source": [
    "The youngest age in dataset is 25. There are 99 people in the dataset who are 25 years old. "
   ]
  },
  {
   "cell_type": "markdown",
   "metadata": {},
   "source": [
    "Question 6"
   ]
  },
  {
   "cell_type": "code",
   "execution_count": 12,
   "metadata": {
    "collapsed": true
   },
   "outputs": [],
   "source": [
    "lm.fit2 = lm(nettfa ~ inc + age + agesq, data = datapart1)"
   ]
  },
  {
   "cell_type": "code",
   "execution_count": 13,
   "metadata": {
    "collapsed": false
   },
   "outputs": [
    {
     "name": "stdout",
     "output_type": "stream",
     "text": [
      "\n",
      "===============================================\n",
      "                        Dependent variable:    \n",
      "                    ---------------------------\n",
      "                              nettfa           \n",
      "-----------------------------------------------\n",
      "inc                          0.825***          \n",
      "                              (0.060)          \n",
      "                                               \n",
      "age                           -1.322*          \n",
      "                              (0.767)          \n",
      "                                               \n",
      "agesq                        0.026***          \n",
      "                              (0.009)          \n",
      "                                               \n",
      "Constant                      -1.204           \n",
      "                             (15.281)          \n",
      "                                               \n",
      "-----------------------------------------------\n",
      "Observations                   2,017           \n",
      "R2                             0.123           \n",
      "Adjusted R2                    0.122           \n",
      "Residual Std. Error     44.605 (df = 2013)     \n",
      "F Statistic          93.985*** (df = 3; 2013)  \n",
      "===============================================\n",
      "Note:               *p<0.1; **p<0.05; ***p<0.01\n"
     ]
    }
   ],
   "source": [
    "stargazer(lm.fit2, type=\"text\")"
   ]
  },
  {
   "cell_type": "markdown",
   "metadata": {},
   "source": [
    "The fact that age is negative means that our model has some sort of upright parabolic shape. At first for small numbers the age term dominates then as ages get larger the agesq term dominates. I would expect an inverted U shape. In general as one ages net financial assests go up but this growth should slow down as one gets older. Also the age term is also siginificant only at 10% and above level, which makes me skeptical about this model. "
   ]
  },
  {
   "cell_type": "markdown",
   "metadata": {},
   "source": [
    "Question 7"
   ]
  },
  {
   "cell_type": "code",
   "execution_count": 14,
   "metadata": {
    "collapsed": false
   },
   "outputs": [],
   "source": [
    "datapart1 $age25sq <- (datapart1$age - 25)^2"
   ]
  },
  {
   "cell_type": "code",
   "execution_count": 15,
   "metadata": {
    "collapsed": true
   },
   "outputs": [],
   "source": [
    "lm.fit3 = lm(nettfa ~ inc + age + age25sq, data=datapart1)"
   ]
  },
  {
   "cell_type": "code",
   "execution_count": 16,
   "metadata": {
    "collapsed": false
   },
   "outputs": [
    {
     "name": "stdout",
     "output_type": "stream",
     "text": [
      "\n",
      "===============================================\n",
      "                        Dependent variable:    \n",
      "                    ---------------------------\n",
      "                              nettfa           \n",
      "-----------------------------------------------\n",
      "inc                          0.825***          \n",
      "                              (0.060)          \n",
      "                                               \n",
      "age                           -0.044           \n",
      "                              (0.325)          \n",
      "                                               \n",
      "age25sq                      0.026***          \n",
      "                              (0.009)          \n",
      "                                               \n",
      "Constant                     -17.181*          \n",
      "                              (9.973)          \n",
      "                                               \n",
      "-----------------------------------------------\n",
      "Observations                   2,017           \n",
      "R2                             0.123           \n",
      "Adjusted R2                    0.122           \n",
      "Residual Std. Error     44.605 (df = 2013)     \n",
      "F Statistic          93.985*** (df = 3; 2013)  \n",
      "===============================================\n",
      "Note:               *p<0.1; **p<0.05; ***p<0.01\n"
     ]
    }
   ],
   "source": [
    "stargazer(lm.fit3,type=\"text\")"
   ]
  },
  {
   "cell_type": "markdown",
   "metadata": {},
   "source": [
    "Age is not significant in this model"
   ]
  },
  {
   "cell_type": "markdown",
   "metadata": {},
   "source": [
    "Question 8"
   ]
  },
  {
   "cell_type": "code",
   "execution_count": 17,
   "metadata": {
    "collapsed": true
   },
   "outputs": [],
   "source": [
    "lm.fit4 = lm(nettfa~ inc + age25sq,data = datapart1)"
   ]
  },
  {
   "cell_type": "code",
   "execution_count": 18,
   "metadata": {
    "collapsed": false
   },
   "outputs": [
    {
     "name": "stdout",
     "output_type": "stream",
     "text": [
      "\n",
      "===============================================\n",
      "                        Dependent variable:    \n",
      "                    ---------------------------\n",
      "                              nettfa           \n",
      "-----------------------------------------------\n",
      "inc                          0.824***          \n",
      "                              (0.060)          \n",
      "                                               \n",
      "age25sq                      0.024***          \n",
      "                              (0.003)          \n",
      "                                               \n",
      "Constant                    -18.488***         \n",
      "                              (2.178)          \n",
      "                                               \n",
      "-----------------------------------------------\n",
      "Observations                   2,017           \n",
      "R2                             0.123           \n",
      "Adjusted R2                    0.122           \n",
      "Residual Std. Error     44.594 (df = 2014)     \n",
      "F Statistic          141.038*** (df = 2; 2014) \n",
      "===============================================\n",
      "Note:               *p<0.1; **p<0.05; ***p<0.01\n"
     ]
    }
   ],
   "source": [
    "stargazer(lm.fit4 , type= \"text\")"
   ]
  },
  {
   "cell_type": "markdown",
   "metadata": {},
   "source": [
    "Both models adjusted R^2 are the same so it can not be determined which model has a better goodness of fit"
   ]
  },
  {
   "cell_type": "markdown",
   "metadata": {},
   "source": [
    "Question 9"
   ]
  },
  {
   "cell_type": "code",
   "execution_count": 19,
   "metadata": {
    "collapsed": true
   },
   "outputs": [],
   "source": [
    "netfa_predicted <- -18.488105 + .8235711*30 + .024403*datapart1$age25sq"
   ]
  },
  {
   "cell_type": "code",
   "execution_count": 20,
   "metadata": {
    "collapsed": false
   },
   "outputs": [
    {
     "data": {
      "image/png": "[encoded data removed]",
      "text/plain": [
       "plot without title"
      ]
     },
     "metadata": {},
     "output_type": "display_data"
    }
   ],
   "source": [
    "plot(datapart1$age,netfa_predicted) "
   ]
  },
  {
   "cell_type": "markdown",
   "metadata": {},
   "source": [
    "For people with an income of 30 thousand dollars, after the age of 25 net financial assets go up as age increases. It seems as if income is the factor that gives us the inverted U shape."
   ]
  },
  {
   "cell_type": "markdown",
   "metadata": {},
   "source": [
    "Part 2"
   ]
  },
  {
   "cell_type": "markdown",
   "metadata": {
    "collapsed": true
   },
   "source": [
    "Question 1"
   ]
  },
  {
   "cell_type": "code",
   "execution_count": 21,
   "metadata": {
    "collapsed": true
   },
   "outputs": [],
   "source": [
    "datapart2 = X401ksubs"
   ]
  },
  {
   "cell_type": "code",
   "execution_count": 22,
   "metadata": {
    "collapsed": false
   },
   "outputs": [
    {
     "data": {
      "text/plain": [
       "\n",
       "   0    1 \n",
       "5638 3637 "
      ]
     },
     "metadata": {},
     "output_type": "display_data"
    }
   ],
   "source": [
    "table(datapart2$e401k)"
   ]
  },
  {
   "cell_type": "code",
   "execution_count": 23,
   "metadata": {
    "collapsed": false
   },
   "outputs": [
    {
     "data": {
      "text/html": [
       "0.392129380053908"
      ],
      "text/latex": [
       "0.392129380053908"
      ],
      "text/markdown": [
       "0.392129380053908"
      ],
      "text/plain": [
       "[1] 0.3921294"
      ]
     },
     "metadata": {},
     "output_type": "display_data"
    }
   ],
   "source": [
    "3637/9275"
   ]
  },
  {
   "cell_type": "markdown",
   "metadata": {},
   "source": [
    "Question 2"
   ]
  },
  {
   "cell_type": "code",
   "execution_count": 24,
   "metadata": {
    "collapsed": true
   },
   "outputs": [],
   "source": [
    "results <- lm(e401k ~ male + age + agesq + inc + incsq,data = datapart2)"
   ]
  },
  {
   "cell_type": "code",
   "execution_count": 25,
   "metadata": {
    "collapsed": false
   },
   "outputs": [
    {
     "name": "stdout",
     "output_type": "stream",
     "text": [
      "\n",
      "===============================================\n",
      "                        Dependent variable:    \n",
      "                    ---------------------------\n",
      "                               e401k           \n",
      "-----------------------------------------------\n",
      "male                          -0.004           \n",
      "                              (0.012)          \n",
      "                                               \n",
      "age                          0.027***          \n",
      "                              (0.004)          \n",
      "                                               \n",
      "agesq                       -0.0003***         \n",
      "                             (0.00005)         \n",
      "                                               \n",
      "inc                          0.012***          \n",
      "                              (0.001)          \n",
      "                                               \n",
      "incsq                       -0.0001***         \n",
      "                             (0.00000)         \n",
      "                                               \n",
      "Constant                     -0.506***         \n",
      "                              (0.081)          \n",
      "                                               \n",
      "-----------------------------------------------\n",
      "Observations                   9,275           \n",
      "R2                             0.094           \n",
      "Adjusted R2                    0.094           \n",
      "Residual Std. Error      0.465 (df = 9269)     \n",
      "F Statistic          192.964*** (df = 5; 9269) \n",
      "===============================================\n",
      "Note:               *p<0.1; **p<0.05; ***p<0.01\n"
     ]
    }
   ],
   "source": [
    "stargazer(results,type=\"text\")"
   ]
  },
  {
   "cell_type": "markdown",
   "metadata": {},
   "source": [
    "The estimates for the variables tell us that income and age follow an inverted U-shape. All income variables and age variables are statistically significant so they are are not independent of 401k eligbility. Since the gender variable is not statistically significant it is independent of 401k eligbility."
   ]
  },
  {
   "cell_type": "markdown",
   "metadata": {},
   "source": [
    "Question 3"
   ]
  },
  {
   "cell_type": "code",
   "execution_count": 26,
   "metadata": {
    "collapsed": false
   },
   "outputs": [
    {
     "data": {
      "text/html": [
       "<ol class=list-inline>\n",
       "\t<li>'coefficients'</li>\n",
       "\t<li>'residuals'</li>\n",
       "\t<li>'effects'</li>\n",
       "\t<li>'rank'</li>\n",
       "\t<li>'fitted.values'</li>\n",
       "\t<li>'assign'</li>\n",
       "\t<li>'qr'</li>\n",
       "\t<li>'df.residual'</li>\n",
       "\t<li>'xlevels'</li>\n",
       "\t<li>'call'</li>\n",
       "\t<li>'terms'</li>\n",
       "\t<li>'model'</li>\n",
       "</ol>\n"
      ],
      "text/latex": [
       "\\begin{enumerate*}\n",
       "\\item 'coefficients'\n",
       "\\item 'residuals'\n",
       "\\item 'effects'\n",
       "\\item 'rank'\n",
       "\\item 'fitted.values'\n",
       "\\item 'assign'\n",
       "\\item 'qr'\n",
       "\\item 'df.residual'\n",
       "\\item 'xlevels'\n",
       "\\item 'call'\n",
       "\\item 'terms'\n",
       "\\item 'model'\n",
       "\\end{enumerate*}\n"
      ],
      "text/markdown": [
       "1. 'coefficients'\n",
       "2. 'residuals'\n",
       "3. 'effects'\n",
       "4. 'rank'\n",
       "5. 'fitted.values'\n",
       "6. 'assign'\n",
       "7. 'qr'\n",
       "8. 'df.residual'\n",
       "9. 'xlevels'\n",
       "10. 'call'\n",
       "11. 'terms'\n",
       "12. 'model'\n",
       "\n",
       "\n"
      ],
      "text/plain": [
       " [1] \"coefficients\"  \"residuals\"     \"effects\"       \"rank\"         \n",
       " [5] \"fitted.values\" \"assign\"        \"qr\"            \"df.residual\"  \n",
       " [9] \"xlevels\"       \"call\"          \"terms\"         \"model\"        "
      ]
     },
     "metadata": {},
     "output_type": "display_data"
    }
   ],
   "source": [
    "names(results)"
   ]
  },
  {
   "cell_type": "code",
   "execution_count": 27,
   "metadata": {
    "collapsed": true
   },
   "outputs": [],
   "source": [
    "tmp = results$fitted.values"
   ]
  },
  {
   "cell_type": "code",
   "execution_count": 28,
   "metadata": {
    "collapsed": false
   },
   "outputs": [
    {
     "data": {
      "text/html": [
       "0"
      ],
      "text/latex": [
       "0"
      ],
      "text/markdown": [
       "0"
      ],
      "text/plain": [
       "[1] 0"
      ]
     },
     "metadata": {},
     "output_type": "display_data"
    }
   ],
   "source": [
    "length(which((tmp < 0 | tmp > 1) == T))"
   ]
  },
  {
   "cell_type": "markdown",
   "metadata": {},
   "source": [
    "No fitted values are less than zero or greater than 1"
   ]
  },
  {
   "cell_type": "markdown",
   "metadata": {},
   "source": [
    "Question 4"
   ]
  },
  {
   "cell_type": "code",
   "execution_count": 29,
   "metadata": {
    "collapsed": true
   },
   "outputs": [],
   "source": [
    "results2 <- lm(nettfa ~ e401k + age + agesq + inc + incsq,data = datapart2)"
   ]
  },
  {
   "cell_type": "code",
   "execution_count": 30,
   "metadata": {
    "collapsed": false
   },
   "outputs": [
    {
     "name": "stdout",
     "output_type": "stream",
     "text": [
      "\n",
      "===============================================\n",
      "                        Dependent variable:    \n",
      "                    ---------------------------\n",
      "                              nettfa           \n",
      "-----------------------------------------------\n",
      "e401k                        9.705***          \n",
      "                              (1.277)          \n",
      "                                               \n",
      "age                          -1.972***         \n",
      "                              (0.483)          \n",
      "                                               \n",
      "agesq                        0.035***          \n",
      "                              (0.006)          \n",
      "                                               \n",
      "inc                          -0.278***         \n",
      "                              (0.075)          \n",
      "                                               \n",
      "incsq                        0.010***          \n",
      "                              (0.001)          \n",
      "                                               \n",
      "Constant                     23.085**          \n",
      "                              (9.960)          \n",
      "                                               \n",
      "-----------------------------------------------\n",
      "Observations                   9,275           \n",
      "R2                             0.202           \n",
      "Adjusted R2                    0.201           \n",
      "Residual Std. Error     57.162 (df = 9269)     \n",
      "F Statistic          468.693*** (df = 5; 9269) \n",
      "===============================================\n",
      "Note:               *p<0.1; **p<0.05; ***p<0.01\n"
     ]
    }
   ],
   "source": [
    "stargazer(results2,type = \"text\")"
   ]
  },
  {
   "cell_type": "markdown",
   "metadata": {},
   "source": [
    "Holding everything else fixed, A person who is eligible for a 401k will have 9705 more dollars in net financial assets."
   ]
  },
  {
   "cell_type": "markdown",
   "metadata": {},
   "source": [
    "Question 5"
   ]
  },
  {
   "cell_type": "code",
   "execution_count": 31,
   "metadata": {
    "collapsed": true
   },
   "outputs": [],
   "source": [
    "results3 = lm(nettfa ~ e401k + age + agesq +inc + incsq + I(e401k*(age-41)) + I(e401k*(age-41)^2) , data = datapart2)"
   ]
  },
  {
   "cell_type": "code",
   "execution_count": 32,
   "metadata": {
    "collapsed": false
   },
   "outputs": [
    {
     "name": "stdout",
     "output_type": "stream",
     "text": [
      "\n",
      "==================================================\n",
      "                           Dependent variable:    \n",
      "                       ---------------------------\n",
      "                                 nettfa           \n",
      "--------------------------------------------------\n",
      "e401k                           9.960***          \n",
      "                                 (1.719)          \n",
      "                                                  \n",
      "age                             -2.317***         \n",
      "                                 (0.591)          \n",
      "                                                  \n",
      "agesq                           0.036***          \n",
      "                                 (0.007)          \n",
      "                                                  \n",
      "inc                             -0.279***         \n",
      "                                 (0.074)          \n",
      "                                                  \n",
      "incsq                           0.010***          \n",
      "                                 (0.001)          \n",
      "                                                  \n",
      "I(e401k * (age - 41))           0.654***          \n",
      "                                 (0.131)          \n",
      "                                                  \n",
      "I(e401k * (age - 41)2)           -0.004           \n",
      "                                 (0.012)          \n",
      "                                                  \n",
      "Constant                        34.584***         \n",
      "                                (12.186)          \n",
      "                                                  \n",
      "--------------------------------------------------\n",
      "Observations                      9,275           \n",
      "R2                                0.204           \n",
      "Adjusted R2                       0.204           \n",
      "Residual Std. Error        57.083 (df = 9267)     \n",
      "F Statistic             339.662*** (df = 7; 9267) \n",
      "==================================================\n",
      "Note:                  *p<0.1; **p<0.05; ***p<0.01\n"
     ]
    }
   ],
   "source": [
    "stargazer(results3,type =\"text\")"
   ]
  },
  {
   "cell_type": "markdown",
   "metadata": {},
   "source": [
    "Around the average age of 41, the (e401k * (age-41)) interaction term is significant."
   ]
  },
  {
   "cell_type": "markdown",
   "metadata": {},
   "source": [
    "Question 6"
   ]
  },
  {
   "cell_type": "code",
   "execution_count": 33,
   "metadata": {
    "collapsed": false
   },
   "outputs": [
    {
     "name": "stdout",
     "output_type": "stream",
     "text": [
      "\n",
      "==========================================================================\n",
      "                                       Dependent variable:                \n",
      "                       ---------------------------------------------------\n",
      "                                             nettfa                       \n",
      "                                  (1)                       (2)           \n",
      "--------------------------------------------------------------------------\n",
      "e401k                          9.705***                  9.960***         \n",
      "                                (1.277)                   (1.719)         \n",
      "                                                                          \n",
      "age                            -1.972***                 -2.317***        \n",
      "                                (0.483)                   (0.591)         \n",
      "                                                                          \n",
      "agesq                          0.035***                  0.036***         \n",
      "                                (0.006)                   (0.007)         \n",
      "                                                                          \n",
      "inc                            -0.278***                 -0.279***        \n",
      "                                (0.075)                   (0.074)         \n",
      "                                                                          \n",
      "incsq                          0.010***                  0.010***         \n",
      "                                (0.001)                   (0.001)         \n",
      "                                                                          \n",
      "I(e401k * (age - 41))                                    0.654***         \n",
      "                                                          (0.131)         \n",
      "                                                                          \n",
      "I(e401k * (age - 41)2)                                    -0.004          \n",
      "                                                          (0.012)         \n",
      "                                                                          \n",
      "Constant                       23.085**                  34.584***        \n",
      "                                (9.960)                  (12.186)         \n",
      "                                                                          \n",
      "--------------------------------------------------------------------------\n",
      "Observations                     9,275                     9,275          \n",
      "R2                               0.202                     0.204          \n",
      "Adjusted R2                      0.201                     0.204          \n",
      "Residual Std. Error       57.162 (df = 9269)        57.083 (df = 9267)    \n",
      "F Statistic            468.693*** (df = 5; 9269) 339.662*** (df = 7; 9267)\n",
      "==========================================================================\n",
      "Note:                                          *p<0.1; **p<0.05; ***p<0.01\n"
     ]
    }
   ],
   "source": [
    "stargazer(results2,results3, type=\"text\")"
   ]
  },
  {
   "cell_type": "markdown",
   "metadata": {},
   "source": [
    "The difference between the e401k coefficients is only about 255 dollars. This difference is not much due to peoples net financial assests being on the order of tens of thousands."
   ]
  },
  {
   "cell_type": "markdown",
   "metadata": {},
   "source": [
    "Question 7"
   ]
  },
  {
   "cell_type": "markdown",
   "metadata": {},
   "source": [
    "Adding different family size variables to dataframe"
   ]
  },
  {
   "cell_type": "code",
   "execution_count": 34,
   "metadata": {
    "collapsed": true
   },
   "outputs": [],
   "source": [
    "datapart2$fsize1 <- 0 \n",
    "datapart2$fsize1[datapart2$fsize == 1] <- 1\n",
    "datapart2$fsize2 <- 0\n",
    "datapart2$fsize2[datapart2$fsize == 2] <- 1\n",
    "datapart2$fsize3 <- 0\n",
    "datapart2$fsize3[datapart2$fsize == 3] <- 1\n",
    "datapart2$fsize4 <- 0\n",
    "datapart2$fsize4[datapart2$fsize == 4] <- 1\n",
    "datapart2$fsize5 <- 0\n",
    "datapart2$fsize5[datapart2$fsize >= 5] <- 1"
   ]
  },
  {
   "cell_type": "markdown",
   "metadata": {},
   "source": [
    "Family size of 1 will be excluded from the model to avoid dummy trap."
   ]
  },
  {
   "cell_type": "code",
   "execution_count": 35,
   "metadata": {
    "collapsed": true
   },
   "outputs": [],
   "source": [
    "results4 = lm(nettfa ~ e401k + age + agesq +inc + incsq +fsize2 + fsize3 + fsize4 + fsize5  , data = datapart2)"
   ]
  },
  {
   "cell_type": "code",
   "execution_count": 36,
   "metadata": {
    "collapsed": false
   },
   "outputs": [
    {
     "name": "stdout",
     "output_type": "stream",
     "text": [
      "\n",
      "===============================================\n",
      "                        Dependent variable:    \n",
      "                    ---------------------------\n",
      "                              nettfa           \n",
      "-----------------------------------------------\n",
      "e401k                        9.455***          \n",
      "                              (1.278)          \n",
      "                                               \n",
      "age                          -1.495***         \n",
      "                              (0.495)          \n",
      "                                               \n",
      "agesq                        0.029***          \n",
      "                              (0.006)          \n",
      "                                               \n",
      "inc                          -0.240***         \n",
      "                              (0.075)          \n",
      "                                               \n",
      "incsq                        0.010***          \n",
      "                              (0.001)          \n",
      "                                               \n",
      "fsize2                        -0.859           \n",
      "                              (1.818)          \n",
      "                                               \n",
      "fsize3                       -4.665**          \n",
      "                              (1.877)          \n",
      "                                               \n",
      "fsize4                       -6.315***         \n",
      "                              (1.868)          \n",
      "                                               \n",
      "fsize5                       -7.361***         \n",
      "                              (2.101)          \n",
      "                                               \n",
      "Constant                      16.337           \n",
      "                             (10.116)          \n",
      "                                               \n",
      "-----------------------------------------------\n",
      "Observations                   9,275           \n",
      "R2                             0.204           \n",
      "Adjusted R2                    0.203           \n",
      "Residual Std. Error     57.107 (df = 9265)     \n",
      "F Statistic          263.302*** (df = 9; 9265) \n",
      "===============================================\n",
      "Note:               *p<0.1; **p<0.05; ***p<0.01\n"
     ]
    }
   ],
   "source": [
    "stargazer(results4, type =\"text\")"
   ]
  },
  {
   "cell_type": "markdown",
   "metadata": {},
   "source": [
    "Only the family size of four and family size of five or more are significant at 1% error."
   ]
  },
  {
   "cell_type": "markdown",
   "metadata": {},
   "source": [
    "Question 8"
   ]
  },
  {
   "cell_type": "code",
   "execution_count": 37,
   "metadata": {
    "collapsed": true
   },
   "outputs": [],
   "source": [
    "results5 = lm(e401k~ inc + incsq + age + agesq + male , data = datapart2)"
   ]
  },
  {
   "cell_type": "markdown",
   "metadata": {},
   "source": [
    "This is the usual OLS standard error model for the linear probability model."
   ]
  },
  {
   "cell_type": "code",
   "execution_count": 38,
   "metadata": {
    "collapsed": false
   },
   "outputs": [
    {
     "name": "stdout",
     "output_type": "stream",
     "text": [
      "\n",
      "===============================================\n",
      "                        Dependent variable:    \n",
      "                    ---------------------------\n",
      "                               e401k           \n",
      "-----------------------------------------------\n",
      "inc                          0.012***          \n",
      "                              (0.001)          \n",
      "                                               \n",
      "incsq                       -0.0001***         \n",
      "                             (0.00000)         \n",
      "                                               \n",
      "age                          0.027***          \n",
      "                              (0.004)          \n",
      "                                               \n",
      "agesq                       -0.0003***         \n",
      "                             (0.00005)         \n",
      "                                               \n",
      "male                          -0.004           \n",
      "                              (0.012)          \n",
      "                                               \n",
      "Constant                     -0.506***         \n",
      "                              (0.081)          \n",
      "                                               \n",
      "-----------------------------------------------\n",
      "Observations                   9,275           \n",
      "R2                             0.094           \n",
      "Adjusted R2                    0.094           \n",
      "Residual Std. Error      0.465 (df = 9269)     \n",
      "F Statistic          192.964*** (df = 5; 9269) \n",
      "===============================================\n",
      "Note:               *p<0.1; **p<0.05; ***p<0.01\n"
     ]
    }
   ],
   "source": [
    "stargazer(results5,type =\"text\")"
   ]
  },
  {
   "cell_type": "markdown",
   "metadata": {},
   "source": [
    "This is the heteroskedasticity-robust version"
   ]
  },
  {
   "cell_type": "code",
   "execution_count": 39,
   "metadata": {
    "collapsed": false
   },
   "outputs": [
    {
     "data": {
      "text/plain": [
       "\n",
       "t test of coefficients:\n",
       "\n",
       "               Estimate  Std. Error  t value  Pr(>|t|)    \n",
       "(Intercept) -5.0629e-01  7.8554e-02  -6.4451 1.213e-10 ***\n",
       "inc          1.2446e-02  6.0030e-04  20.7337 < 2.2e-16 ***\n",
       "incsq       -6.1649e-05  5.0041e-06 -12.3196 < 2.2e-16 ***\n",
       "age          2.6506e-02  3.8235e-03   6.9325 4.411e-12 ***\n",
       "agesq       -3.0527e-04  4.3753e-05  -6.9771 3.220e-12 ***\n",
       "male        -3.5328e-03  1.2052e-02  -0.2931    0.7694    \n",
       "---\n",
       "Signif. codes:  0 '***' 0.001 '**' 0.01 '*' 0.05 '.' 0.1 ' ' 1\n"
      ]
     },
     "metadata": {},
     "output_type": "display_data"
    }
   ],
   "source": [
    "coeftest(results5,vcov = vcovHC(results5,type=\"HC1\"))"
   ]
  },
  {
   "cell_type": "markdown",
   "metadata": {},
   "source": [
    "Looking at the standard errors for both models there are no significant differences between the two versions of the linear probability models."
   ]
  }
 ],
 "metadata": {
  "anaconda-cloud": {},
  "kernelspec": {
   "display_name": "R 3.3",
   "language": "R",
   "name": "ir33"
  },
  "language_info": {
   "codemirror_mode": "r",
   "file_extension": ".r",
   "mimetype": "text/x-r-source",
   "name": "R",
   "pygments_lexer": "r",
   "version": "3.3.2"
  }
 },
 "nbformat": 4,
 "nbformat_minor": 1
}
